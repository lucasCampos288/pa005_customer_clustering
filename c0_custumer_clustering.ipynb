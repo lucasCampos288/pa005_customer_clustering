{
 "cells": [
  {
   "cell_type": "markdown",
   "id": "12f675dd",
   "metadata": {},
   "source": [
    "# PA005: High Value Customer Identification"
   ]
  },
  {
   "cell_type": "markdown",
   "id": "b3fb4b98",
   "metadata": {},
   "source": [
    "# 0.0. Planejamento da Solução (IOT)"
   ]
  },
  {
   "cell_type": "markdown",
   "id": "40c305d6",
   "metadata": {},
   "source": [
    "## Input - Entrada\n",
    " O problema de negócio:\n",
    " \n",
    "    Selecionar os mais valiosos clientes para formar o programa de fidelidade \"INSIDERS\"Conjunto de dados com as vendas de produtos durante 1 ano ( Nov 2015 to Dec 2017 )\n",
    " \n",
    "## Output - Saída\n",
    " \n",
    "    A indicação de pessoas para fazer parte do programa de fidelidade \"INSIDERS\".Relatório com as respostas para as seguintes perguntas:\n",
    "    Quem são as pessoas elegíveis para participar do programa de Insiders ?\n",
    "    Quantos clientes farão parte do grupo?Quais as principais características desses clientes ?\n",
    "    Qual a porcentagem de contribuição do faturamento, vinda do Insiders ?\n",
    "    Qual a expectativa de faturamento desse grupo para os próximos meses ?\n",
    "    Quais as condições para uma pessoa ser elegível ao Insiders ?\n",
    "    Quais as condições para uma pessoa ser removida do Insiders ?\n",
    "    Qual a garantia que o programa Insiders é melhor que o restante da base ?\n",
    "    Quais ações o time de marketing pode realizar para aumentar o faturamento?\n",
    "\n",
    "## Tasks - Processo\n",
    " \n",
    "    Quem são as pessoas elegíveis para participar do programa de Insiders ?\n",
    "    O que é ser elegível ? O que é um cliente \"valioso\" para a empresa ?\n",
    "    Faturamento:\n",
    "        Alto Ticket MédioAlto \n",
    "        LTVBaixa Recência ou Alta Frequência ( tempo entre as compras )\n",
    "        Alto Basket Size ( quantidade média de produtos comprados )\n",
    "        Baixa probabilidade de Churn\n",
    "        Previsão alta de LTV\n",
    "        Alta propensão de compra\n",
    "    \n",
    "    Custo:\n",
    "        Baixo número de devoluções\n",
    "\n",
    "    Experiência:  \n",
    "        Média alta de avaliações\n",
    "\n",
    "    Quantos clientes farão parte do grupo?\n",
    "        Número de clientes% em relação ao total de clients\n",
    "\n",
    "\n",
    "    Quais as principais características desses clientes ?\n",
    "        Escrever os principais atributos dos clientes\n",
    "        Idade\n",
    "        País\n",
    "        Salário\n",
    "\n",
    "    Escrever os principais comportamentos de compra dos clients ( métricas de negócio )\n",
    "        Vide acima\n",
    "\n",
    "\n",
    "\n",
    "    Qual a porcentagem de contribuição do faturamento, vinda do Insiders ?\n",
    "        Calcular o faturamento total da empresa durante o ano.\n",
    "        Calcular o faturamento (%) apenas do cluster Insiders.\n",
    "\n",
    "\n",
    "    Qual a expectativa de faturamento desse grupo para os próximos meses ?\n",
    "        Cálculo do LTV do grupo Insiders\n",
    "        Séries Temporais ( ARMA, ARIMA, HoltWinter, etc )\n",
    "\n",
    "\n",
    "    Quais as condições para uma pessoa ser elegível ao Insiders ?\n",
    "        Qual o período de avaliação ?\n",
    "        O \"desempenho\" do cliente está próximo da média do cluster Insiders. \n",
    "\n",
    "\n",
    "    Quais as condições para uma pessoa ser removida do Insiders ?\n",
    "        O \"desempenho\" do cliente não está mais próximo da média do cluster Insiders. \n",
    "\n",
    "\n",
    "    Qual a garantia que o programa Insiders é melhor que o restante da base ?\n",
    "        Teste de HipótesesTeste A/B\n",
    "\n",
    "\n",
    "    Quais ações o time de marketing pode realizar para aumentar o faturamento?\n",
    "        DescontosPreferências de escolhaProdutos exclusivos"
   ]
  },
  {
   "cell_type": "code",
   "execution_count": null,
   "id": "431b434e",
   "metadata": {},
   "outputs": [],
   "source": []
  }
 ],
 "metadata": {
  "kernelspec": {
   "display_name": "Python 3 (ipykernel)",
   "language": "python",
   "name": "python3"
  },
  "language_info": {
   "codemirror_mode": {
    "name": "ipython",
    "version": 3
   },
   "file_extension": ".py",
   "mimetype": "text/x-python",
   "name": "python",
   "nbconvert_exporter": "python",
   "pygments_lexer": "ipython3",
   "version": "3.8.12"
  }
 },
 "nbformat": 4,
 "nbformat_minor": 5
}
